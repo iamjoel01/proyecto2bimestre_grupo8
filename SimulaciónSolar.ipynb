{
 "cells": [
  {
   "cell_type": "code",
   "execution_count": 1,
   "metadata": {},
   "outputs": [],
   "source": [
    "import math\n",
    "import numpy as np\n",
    "import matplotlib.pyplot as plt\n",
    "from datetime import datetime, timedelta\n",
    "from pysolar.solar import get_azimuth, get_altitude\n",
    "from pytz import timezone\n",
    "import ipywidgets as widgets\n",
    "from ipywidgets import interact, interactive"
   ]
  },
  {
   "cell_type": "code",
   "execution_count": 2,
   "metadata": {},
   "outputs": [],
   "source": [
    "def getSolarPosition(latitude: float = -0.2105367, longitude: float = -78.491614, date: datetime = datetime.now(tz=timezone(\"America/Guayaquil\"))):\n",
    "    \"\"\"Calcula el azimuth y la elevación para una posición geográfica y fecha.\"\"\"\n",
    "    az = get_azimuth(latitude, longitude, date)\n",
    "    el = get_altitude(latitude, longitude, date)\n",
    "    return az, el"
   ]
  },
  {
   "cell_type": "code",
   "execution_count": 3,
   "metadata": {},
   "outputs": [],
   "source": [
    "def calculateControlAngles(azimuth, elevation):\n",
    "    \"\"\"Calcula los ángulos de control (pitch y roll) en base a la posición solar.\"\"\"\n",
    "    # Convertir los ángulos a radianes\n",
    "    elevation_rad = math.radians(elevation)\n",
    "    azimuth_rad = math.radians(azimuth)\n",
    "\n",
    "    # Definir las componentes del vector solar\n",
    "    S_x = math.cos(elevation_rad) * math.sin(azimuth_rad)\n",
    "    S_y = math.cos(elevation_rad) * math.cos(azimuth_rad)\n",
    "    S_z = math.sin(elevation_rad)\n",
    "\n",
    "    # Calcular roll (φ) y pitch (β) usando las ecuaciones matemáticas\n",
    "    if S_y != 0:\n",
    "        roll = math.degrees(math.atan2(S_y, S_x))\n",
    "    else:\n",
    "        roll = 0\n",
    "    \n",
    "    pitch = math.degrees(math.asin(S_z))\n",
    "\n",
    "    return pitch, roll"
   ]
  },
  {
   "cell_type": "code",
   "execution_count": 4,
   "metadata": {},
   "outputs": [],
   "source": [
    "def plotSunAndPanelTrajectory(start_date, duration_hours, latitude=-0.2105367, longitude=-78.491614):\n",
    "    \"\"\"Dibuja la trayectoria del sol y del panel solar de manera interactiva.\"\"\"\n",
    "    # Convertir la fecha a timezone-aware si no lo es\n",
    "    if start_date.tzinfo is None:\n",
    "        start_date = timezone(\"America/Guayaquil\").localize(start_date)\n",
    "\n",
    "    end_date = start_date + timedelta(hours=duration_hours)\n",
    "    times = [start_date + timedelta(minutes=10*i) for i in range(int((end_date - start_date).total_seconds() / 600))]\n",
    "    azimuths, elevations, pitches, rolls = [], [], [], []\n",
    "\n",
    "    for time in times:\n",
    "        azimuth, elevation = getSolarPosition(latitude, longitude, time)\n",
    "        pitch, roll = calculateControlAngles(azimuth, elevation)\n",
    "        azimuths.append(azimuth)\n",
    "        elevations.append(elevation)\n",
    "        pitches.append(pitch)\n",
    "        rolls.append(roll)\n",
    "    \n",
    "    # Convertir azimut y elevación a coordenadas 3D\n",
    "    sun_x = np.cos(np.radians(elevations)) * np.sin(np.radians(azimuths))\n",
    "    sun_y = np.cos(np.radians(elevations)) * np.cos(np.radians(azimuths))\n",
    "    sun_z = np.sin(np.radians(elevations))\n",
    "\n",
    "    # Convertir pitch y roll a coordenadas 3D\n",
    "    panel_x = np.cos(np.radians(pitches)) * np.sin(np.radians(rolls))\n",
    "    panel_y = np.cos(np.radians(pitches)) * np.cos(np.radians(rolls))\n",
    "    panel_z = np.sin(np.radians(pitches))\n",
    "\n",
    "    fig = plt.figure()\n",
    "    ax = fig.add_subplot(111, projection='3d')\n",
    "    ax.plot(sun_x, sun_y, sun_z, label='Trayectoria del Sol', color='orange')\n",
    "    ax.plot(panel_x, panel_y, panel_z, label='Orientación del Panel', color='blue')\n",
    "    \n",
    "    ax.set_xlabel('X')\n",
    "    ax.set_ylabel('Y')\n",
    "    ax.set_zlabel('Z')\n",
    "    ax.set_title(f'Trayectoria del Sol y Orientación del Panel Solar\\n{start_date.date()}')\n",
    "    ax.legend()\n",
    "    plt.show()"
   ]
  },
  {
   "cell_type": "code",
   "execution_count": 5,
   "metadata": {},
   "outputs": [
    {
     "data": {
      "application/vnd.jupyter.widget-view+json": {
       "model_id": "95285105fe984cdfbb90ed3b170fd1b7",
       "version_major": 2,
       "version_minor": 0
      },
      "text/plain": [
       "interactive(children=(DatePicker(value=None, description='Fecha:', step=1), FloatSlider(value=6.0, description…"
      ]
     },
     "metadata": {},
     "output_type": "display_data"
    }
   ],
   "source": [
    "def interactive_plot():\n",
    "    \"\"\"Crea una interfaz interactiva para ingresar la fecha y duración de la simulación.\"\"\"\n",
    "    date_picker = widgets.DatePicker(description='Fecha:', disabled=False)\n",
    "    time_picker = widgets.FloatSlider(value=6, min=0, max=23, step=1, description='Hora Inicial:')\n",
    "    duration_picker = widgets.FloatSlider(value=12, min=1, max=24, step=1, description='Duración (h):')\n",
    "\n",
    "    def update_plot(date, start_hour, duration):\n",
    "        start_datetime = datetime.combine(date, datetime.min.time()) + timedelta(hours=start_hour)\n",
    "        # Convertir a timezone-aware\n",
    "        start_datetime = timezone(\"America/Guayaquil\").localize(start_datetime)\n",
    "        plotSunAndPanelTrajectory(start_datetime, duration)\n",
    "\n",
    "    interact = widgets.interactive(update_plot, date=date_picker, start_hour=time_picker, duration=duration_picker)\n",
    "    display(interact)\n",
    "\n",
    "if __name__ == \"__main__\":\n",
    "    interactive_plot()"
   ]
  }
 ],
 "metadata": {
  "kernelspec": {
   "display_name": "Python 3",
   "language": "python",
   "name": "python3"
  },
  "language_info": {
   "codemirror_mode": {
    "name": "ipython",
    "version": 3
   },
   "file_extension": ".py",
   "mimetype": "text/x-python",
   "name": "python",
   "nbconvert_exporter": "python",
   "pygments_lexer": "ipython3",
   "version": "3.11.9"
  }
 },
 "nbformat": 4,
 "nbformat_minor": 2
}
