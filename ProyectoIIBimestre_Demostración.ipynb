{
 "cells": [
  {
   "cell_type": "markdown",
   "id": "f10d3561-7967-4632-a030-e2291d186ec1",
   "metadata": {},
   "source": [
    "## Rotación en Roll(ϕ)"
   ]
  },
  {
   "cell_type": "markdown",
   "id": "ffedb15b-360b-4dcb-9fe9-7d89fd1b8c44",
   "metadata": {},
   "source": [
    "Para demostrar que nuestro vector (0, −sin(ϕ), cos(ϕ)) está bien calculado, hacemos un modelamiento 3D y verificar que hace el desplazamiento correcto en el plano en el eje (x)."
   ]
  },
  {
   "cell_type": "code",
   "execution_count": 8,
   "id": "b50b14a7-675d-4d53-a534-ccb31a2f8b32",
   "metadata": {
    "tags": []
   },
   "outputs": [
    {
     "data": {
      "application/vnd.jupyter.widget-view+json": {
       "model_id": "2cc06c9b8b7a4e8f8e363fcb611368de",
       "version_major": 2,
       "version_minor": 0
      },
      "text/plain": [
       "interactive(children=(FloatSlider(value=0.0, description='Phi', max=3.141592653589793), Output()), _dom_classe…"
      ]
     },
     "metadata": {},
     "output_type": "display_data"
    },
    {
     "data": {
      "text/plain": [
       "<function __main__.plot_rectangle(phi)>"
      ]
     },
     "execution_count": 8,
     "metadata": {},
     "output_type": "execute_result"
    }
   ],
   "source": [
    "import numpy as np\n",
    "import matplotlib.pyplot as plt\n",
    "from mpl_toolkits.mplot3d import Axes3D\n",
    "from ipywidgets import interact, FloatSlider\n",
    "\n",
    "# Función para crear y mostrar el rectángulo en 3D\n",
    "def plot_rectangle(phi):\n",
    "    # Definir las dimensiones del rectángulo\n",
    "    width = 4\n",
    "    height = 2\n",
    "    \n",
    "    # Definir los vértices del rectángulo en el plano XY\n",
    "    vertices = np.array([\n",
    "        [-width / 2, -height / 2, 0],\n",
    "        [width / 2, -height / 2, 0],\n",
    "        [width / 2, height / 2, 0],\n",
    "        [-width / 2, height / 2, 0]\n",
    "    ])\n",
    "    \n",
    "    # Calcular el vector de movimiento basado en phi\n",
    "    motion_vector = np.array([0, -np.sin(phi), np.cos(phi)])\n",
    "    \n",
    "    # Aplicar el movimiento a los vértices\n",
    "    moved_vertices = vertices + motion_vector\n",
    "    \n",
    "    # Crear la figura y el eje 3D\n",
    "    fig = plt.figure()\n",
    "    ax = fig.add_subplot(111, projection='3d')\n",
    "    \n",
    "    # Dibujar el rectángulo original\n",
    "    ax.plot([vertices[0][0], vertices[1][0]], \n",
    "            [vertices[0][1], vertices[1][1]], \n",
    "            [vertices[0][2], vertices[1][2]], 'b')\n",
    "    ax.plot([vertices[1][0], vertices[2][0]], \n",
    "            [vertices[1][1], vertices[2][1]], \n",
    "            [vertices[1][2], vertices[2][2]], 'b')\n",
    "    ax.plot([vertices[2][0], vertices[3][0]], \n",
    "            [vertices[2][1], vertices[3][1]], \n",
    "            [vertices[2][2], vertices[3][2]], 'b')\n",
    "    ax.plot([vertices[3][0], vertices[0][0]], \n",
    "            [vertices[3][1], vertices[0][1]], \n",
    "            [vertices[3][2], vertices[0][2]], 'b')\n",
    "    \n",
    "    # Dibujar el rectángulo movido\n",
    "    ax.plot([moved_vertices[0][0], moved_vertices[1][0]], \n",
    "            [moved_vertices[0][1], moved_vertices[1][1]], \n",
    "            [moved_vertices[0][2], moved_vertices[1][2]], 'r')\n",
    "    ax.plot([moved_vertices[1][0], moved_vertices[2][0]], \n",
    "            [moved_vertices[1][1], moved_vertices[2][1]], \n",
    "            [moved_vertices[1][2], moved_vertices[2][2]], 'r')\n",
    "    ax.plot([moved_vertices[2][0], moved_vertices[3][0]], \n",
    "            [moved_vertices[2][1], moved_vertices[3][1]], \n",
    "            [moved_vertices[2][2], moved_vertices[3][2]], 'r')\n",
    "    ax.plot([moved_vertices[3][0], moved_vertices[0][0]], \n",
    "            [moved_vertices[3][1], moved_vertices[0][1]], \n",
    "            [moved_vertices[3][2], moved_vertices[0][2]], 'r')\n",
    "    \n",
    "    # Establecer los límites de los ejes\n",
    "    ax.set_xlim(-5, 5)\n",
    "    ax.set_ylim(-5, 5)\n",
    "    ax.set_zlim(-5, 5)\n",
    "    \n",
    "    ax.set_xlabel('X')\n",
    "    ax.set_ylabel('Y')\n",
    "    ax.set_zlabel('Z')\n",
    "    \n",
    "    plt.show()\n",
    "\n",
    "# Crear un slider interactivo para ajustar el valor de phi\n",
    "interact(plot_rectangle, phi=FloatSlider(min=0, max=np.pi, step=0.1, value=0, description='Phi'))\n",
    "\n"
   ]
  },
  {
   "cell_type": "markdown",
   "id": "dd816e20-e3a1-4589-aa24-009b82b63640",
   "metadata": {},
   "source": [
    "## Rotación en Pich(β)"
   ]
  },
  {
   "cell_type": "markdown",
   "id": "7aa7f40e-e273-4b18-8773-c1c035c67482",
   "metadata": {},
   "source": [
    "Para demostrar que nuestro vector (cos(ϕ)⋅sin(β), −sin(ϕ), cos(ϕ)⋅cos(β)) está bien calculado, hacemos un modelamiento 3D y verificar que hace el desplazamiento correcto en el plano en el eje (y), para eso consideremos la rotación en Roll(ϕ), por consiguiente multiplicacmos nuestro vector Roll(ϕ) con nuestra matriz de rotación en Pich(β) y conseguimos nuestro nuevo vector ya antes presentado."
   ]
  },
  {
   "cell_type": "code",
   "execution_count": 9,
   "id": "e1ace5c5-15ae-45f5-8cb9-95066387f40f",
   "metadata": {},
   "outputs": [
    {
     "data": {
      "application/vnd.jupyter.widget-view+json": {
       "model_id": "45d7459c04e943b69ab9a01f17d142e0",
       "version_major": 2,
       "version_minor": 0
      },
      "text/plain": [
       "interactive(children=(FloatSlider(value=0.0, description='Phi', max=6.283185307179586), FloatSlider(value=0.0,…"
      ]
     },
     "metadata": {},
     "output_type": "display_data"
    },
    {
     "data": {
      "text/plain": [
       "<function __main__.plot_rectangle(phi, beta)>"
      ]
     },
     "execution_count": 9,
     "metadata": {},
     "output_type": "execute_result"
    }
   ],
   "source": [
    "import numpy as np\n",
    "import matplotlib.pyplot as plt\n",
    "from mpl_toolkits.mplot3d import Axes3D\n",
    "from ipywidgets import interact, FloatSlider\n",
    "\n",
    "# Función para crear y mostrar el rectángulo en 3D\n",
    "def plot_rectangle(phi, beta):\n",
    "    # Definir las dimensiones del rectángulo\n",
    "    width = 4\n",
    "    height = 2\n",
    "    \n",
    "    # Definir los vértices del rectángulo en el plano XY\n",
    "    vertices = np.array([\n",
    "        [-width / 2, -height / 2, 0],\n",
    "        [width / 2, -height / 2, 0],\n",
    "        [width / 2, height / 2, 0],\n",
    "        [-width / 2, height / 2, 0]\n",
    "    ])\n",
    "    \n",
    "    # Calcular el nuevo vector de movimiento basado en phi y beta\n",
    "    motion_vector = np.array([np.cos(phi) * np.sin(beta), -np.sin(phi), np.cos(phi)])\n",
    "    \n",
    "    # Aplicar el movimiento a los vértices\n",
    "    moved_vertices = vertices + motion_vector\n",
    "    \n",
    "    # Crear la figura y el eje 3D\n",
    "    fig = plt.figure()\n",
    "    ax = fig.add_subplot(111, projection='3d')\n",
    "    \n",
    "    # Dibujar el rectángulo original\n",
    "    ax.plot([vertices[0][0], vertices[1][0]], \n",
    "            [vertices[0][1], vertices[1][1]], \n",
    "            [vertices[0][2], vertices[1][2]], 'b')\n",
    "    ax.plot([vertices[1][0], vertices[2][0]], \n",
    "            [vertices[1][1], vertices[2][1]], \n",
    "            [vertices[1][2], vertices[2][2]], 'b')\n",
    "    ax.plot([vertices[2][0], vertices[3][0]], \n",
    "            [vertices[2][1], vertices[3][1]], \n",
    "            [vertices[2][2], vertices[3][2]], 'b')\n",
    "    ax.plot([vertices[3][0], vertices[0][0]], \n",
    "            [vertices[3][1], vertices[0][1]], \n",
    "            [vertices[3][2], vertices[0][2]], 'b')\n",
    "    \n",
    "    # Dibujar el rectángulo movido\n",
    "    ax.plot([moved_vertices[0][0], moved_vertices[1][0]], \n",
    "            [moved_vertices[0][1], moved_vertices[1][1]], \n",
    "            [moved_vertices[0][2], moved_vertices[1][2]], 'r')\n",
    "    ax.plot([moved_vertices[1][0], moved_vertices[2][0]], \n",
    "            [moved_vertices[1][1], moved_vertices[2][1]], \n",
    "            [moved_vertices[1][2], moved_vertices[2][2]], 'r')\n",
    "    ax.plot([moved_vertices[2][0], moved_vertices[3][0]], \n",
    "            [moved_vertices[2][1], moved_vertices[3][1]], \n",
    "            [moved_vertices[2][2], moved_vertices[3][2]], 'r')\n",
    "    ax.plot([moved_vertices[3][0], moved_vertices[0][0]], \n",
    "            [moved_vertices[3][1], moved_vertices[0][1]], \n",
    "            [moved_vertices[3][2], moved_vertices[0][2]], 'r')\n",
    "    \n",
    "    # Establecer los límites de los ejes\n",
    "    ax.set_xlim(-5, 5)\n",
    "    ax.set_ylim(-5, 5)\n",
    "    ax.set_zlim(-5, 5)\n",
    "    \n",
    "    ax.set_xlabel('X')\n",
    "    ax.set_ylabel('Y')\n",
    "    ax.set_zlabel('Z')\n",
    "    \n",
    "    plt.show()\n",
    "\n",
    "# Crear sliders interactivos para ajustar los valores de phi y beta\n",
    "interact(plot_rectangle, \n",
    "         phi=FloatSlider(min=0, max=2*np.pi, step=0.1, value=0, description='Phi'),\n",
    "         beta=FloatSlider(min=0, max=2*np.pi, step=0.1, value=0, description='Beta'))\n"
   ]
  },
  {
   "cell_type": "markdown",
   "id": "4ee947e9-7bd4-4d8e-9364-1d0bfd461ccb",
   "metadata": {},
   "source": [
    "## Simulador del panel "
   ]
  },
  {
   "cell_type": "markdown",
   "id": "8518fd07-da0c-4f4d-a2c5-f0db2bb76ae8",
   "metadata": {},
   "source": [
    "Para comprobar que nuestro panel sigue el movimiento del sol durante el día, utilizamos nuestro vector ya calculado e igualamos con el vector director ya antes calculado de la posición del sol para en contrar los valores de β y ϕ. "
   ]
  },
  {
   "attachments": {
    "8415fb2f-555b-448b-8f34-2ca4f6b4b0e6.png": {
     "image/png": "[encoded data removed]"
    },
    "c6b201e0-c71d-4883-9972-4208dd78a223.png": {
     "image/png": "[encoded data removed]"
    },
    "c9deaedc-c223-46fa-9ea8-01ea764f095f.png": {
     "image/png": "[encoded data removed]"
    }
   },
   "cell_type": "markdown",
   "id": "bcf0699e-c9fe-4100-aedd-190d1212e780",
   "metadata": {},
   "source": [
    "![image.png](attachment:c9deaedc-c223-46fa-9ea8-01ea764f095f.png)\n",
    "\n",
    "![image.png](attachment:8415fb2f-555b-448b-8f34-2ca4f6b4b0e6.png)\n",
    "\n",
    "![image.png](attachment:c6b201e0-c71d-4883-9972-4208dd78a223.png)"
   ]
  },
  {
   "cell_type": "code",
   "execution_count": 10,
   "id": "8aec900c-c230-4709-b0fe-d4d48b114ddd",
   "metadata": {
    "tags": []
   },
   "outputs": [
    {
     "data": {
      "application/vnd.jupyter.widget-view+json": {
       "model_id": "14e5d697792541f1ad50719216c37023",
       "version_major": 2,
       "version_minor": 0
      },
      "text/plain": [
       "interactive(children=(FloatSlider(value=0.0, description='θ (Elevación)', max=1.5707963267948966, min=-1.57079…"
      ]
     },
     "metadata": {},
     "output_type": "display_data"
    },
    {
     "data": {
      "text/plain": [
       "<function __main__.plot_solar_tracker(theta, alpha)>"
      ]
     },
     "execution_count": 10,
     "metadata": {},
     "output_type": "execute_result"
    }
   ],
   "source": [
    "import numpy as np\n",
    "import matplotlib.pyplot as plt\n",
    "from mpl_toolkits.mplot3d.art3d import Poly3DCollection\n",
    "from ipywidgets import interact, FloatSlider\n",
    "\n",
    "# Función para calcular los ángulos de control\n",
    "def calculate_angles(theta, alpha):\n",
    "    # Calcular phi (roll)\n",
    "    phi = np.arcsin(-np.cos(theta) * np.cos(alpha))\n",
    "    \n",
    "    # Calcular beta (pitch)\n",
    "    beta = np.arccos(np.sin(theta) / np.cos(phi))\n",
    "    \n",
    "    return np.degrees(phi), np.degrees(beta)  # Convertir a grados para una mejor interpretación\n",
    "\n",
    "# Función para crear un rectángulo en 3D dado un origen y dos vectores de dirección\n",
    "def create_rectangle(center, width, height, normal_vector):\n",
    "    # Generar los vectores ortogonales al vector normal\n",
    "    u = np.cross([0, 1, 0], normal_vector)\n",
    "    v = np.cross(normal_vector, u)\n",
    "    \n",
    "    u = u / np.linalg.norm(u) * width / 2\n",
    "    v = v / np.linalg.norm(v) * height / 2\n",
    "    \n",
    "    # Crear los cuatro vértices del rectángulo\n",
    "    vertices = [\n",
    "        center - u - v,\n",
    "        center + u - v,\n",
    "        center + u + v,\n",
    "        center - u + v\n",
    "    ]\n",
    "    \n",
    "    return vertices\n",
    "\n",
    "# Función para dibujar la trayectoria del sol y la orientación del panel\n",
    "def plot_solar_tracker(theta, alpha):\n",
    "    if theta <= 0:\n",
    "        print(\"El sol está por debajo del horizonte. No hay luz solar disponible.\")\n",
    "        return\n",
    "    \n",
    "    phi, beta = calculate_angles(theta, alpha)\n",
    "    \n",
    "    # Imprimir los ángulos de control calculados\n",
    "    print(f\"Ángulo de Roll (ϕ): {phi:.2f}°\")\n",
    "    print(f\"Ángulo de Pitch (β): {beta:.2f}°\")\n",
    "    \n",
    "    # Calcular el vector de la posición del sol\n",
    "    sun_vector = np.array([\n",
    "        np.sin(alpha) * np.cos(theta),\n",
    "        np.cos(alpha) * np.cos(theta),\n",
    "        np.sin(theta)\n",
    "    ])\n",
    "    \n",
    "    # Calcular el vector normal del panel solar\n",
    "    panel_vector = np.array([\n",
    "        np.cos(np.radians(phi)) * np.sin(np.radians(beta)),\n",
    "        -np.sin(np.radians(phi)),\n",
    "        np.cos(np.radians(phi))\n",
    "    ])\n",
    "    \n",
    "    # Crear la figura 3D\n",
    "    fig = plt.figure()\n",
    "    ax = fig.add_subplot(111, projection='3d')\n",
    "    \n",
    "    # Dibujar la trayectoria del sol\n",
    "    ax.quiver(0, 0, 0, sun_vector[0], sun_vector[1], sun_vector[2], color='yellow', label='Vector del Sol')\n",
    "    \n",
    "    # Dibujar el panel solar como un rectángulo\n",
    "    panel_center = np.array([0, 0, 0])\n",
    "    rect_vertices = create_rectangle(panel_center, width=0.5, height=0.3, normal_vector=panel_vector)\n",
    "    panel = Poly3DCollection([rect_vertices], color='blue', alpha=0.5)\n",
    "    ax.add_collection3d(panel)\n",
    "    \n",
    "    # Configurar el gráfico\n",
    "    ax.set_xlim([-1, 1])\n",
    "    ax.set_ylim([-1, 1])\n",
    "    ax.set_zlim([-1, 1])\n",
    "    \n",
    "    ax.set_xlabel('X')\n",
    "    ax.set_ylabel('Y')\n",
    "    ax.set_zlabel('Z')\n",
    "    \n",
    "    ax.legend()\n",
    "    plt.show()\n",
    "\n",
    "# Crear sliders interactivos para ajustar los valores de theta y alpha\n",
    "interact(plot_solar_tracker, \n",
    "         theta=FloatSlider(min=-np.pi/2, max=np.pi/2, step=0.01, value=0, description='θ (Elevación)'),\n",
    "         alpha=FloatSlider(min=0, max=2*np.pi, step=0.01, value=0, description='α (Azimut)'))\n"
   ]
  },
  {
   "cell_type": "code",
   "execution_count": null,
   "id": "f64da3b0-248a-4a0e-a628-32fb63fe004e",
   "metadata": {},
   "outputs": [],
   "source": []
  }
 ],
 "metadata": {
  "kernelspec": {
   "display_name": "Python 3 (ipykernel)",
   "language": "python",
   "name": "python3"
  },
  "language_info": {
   "codemirror_mode": {
    "name": "ipython",
    "version": 3
   },
   "file_extension": ".py",
   "mimetype": "text/x-python",
   "name": "python",
   "nbconvert_exporter": "python",
   "pygments_lexer": "ipython3",
   "version": "3.11.5"
  }
 },
 "nbformat": 4,
 "nbformat_minor": 5
}
